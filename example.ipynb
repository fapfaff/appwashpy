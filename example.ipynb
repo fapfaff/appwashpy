{
 "cells": [
  {
   "cell_type": "code",
   "execution_count": 1,
   "metadata": {},
   "outputs": [],
   "source": [
    "import json\n",
    "with open(\"config.json\") as file:\n",
    "    config = json.load(file)\n",
    "    EMAIL = config[\"email\"]\n",
    "    PWD = config[\"password\"]"
   ]
  },
  {
   "cell_type": "code",
   "execution_count": 2,
   "metadata": {},
   "outputs": [],
   "source": [
    "from appwash import AppWash\n",
    "\n",
    "appwash = AppWash(EMAIL, PWD,\"11102\")"
   ]
  },
  {
   "cell_type": "code",
   "execution_count": 3,
   "metadata": {},
   "outputs": [
    {
     "data": {
      "text/plain": [
       "[Service(service_id='38661', location_id='11102', type='WASHING_MACHINE', name='washing machine', cost_cents=250, reservable=False, state='AVAILABLE', session_start=None),\n",
       " Service(service_id='38662', location_id='11102', type='WASHING_MACHINE', name='washing machine', cost_cents=250, reservable=False, state='AVAILABLE', session_start=None),\n",
       " Service(service_id='38663', location_id='11102', type='WASHING_MACHINE', name='washing machine', cost_cents=250, reservable=False, state='AVAILABLE', session_start=None),\n",
       " Service(service_id='38664', location_id='11102', type='DRYER', name='dryer', cost_cents=200, reservable=False, state='AVAILABLE', session_start=None),\n",
       " Service(service_id='38665', location_id='11102', type='DRYER', name='dryer', cost_cents=200, reservable=False, state='AVAILABLE', session_start=None)]"
      ]
     },
     "execution_count": 3,
     "metadata": {},
     "output_type": "execute_result"
    }
   ],
   "source": [
    "appwash.services()"
   ]
  },
  {
   "cell_type": "code",
   "execution_count": 4,
   "metadata": {},
   "outputs": [
    {
     "data": {
      "text/plain": [
       "[Service(service_id='38547', location_id='11112', type='WASHING_MACHINE', name='washing machine', cost_cents=320, reservable=False, state='OCCUPIED', session_start=1657706742),\n",
       " Service(service_id='38548', location_id='11112', type='WASHING_MACHINE', name='washing machine', cost_cents=320, reservable=False, state='OCCUPIED', session_start=1657706239),\n",
       " Service(service_id='38549', location_id='11112', type='WASHING_MACHINE', name='washing machine', cost_cents=320, reservable=False, state='OCCUPIED', session_start=1657706773),\n",
       " Service(service_id='38550', location_id='11112', type='DRYER', name='dryer', cost_cents=200, reservable=False, state='AVAILABLE', session_start=None),\n",
       " Service(service_id='38551', location_id='11112', type='DRYER', name='dryer', cost_cents=200, reservable=False, state='AVAILABLE', session_start=None),\n",
       " Service(service_id='38552', location_id='11112', type='DRYER', name='dryer', cost_cents=200, reservable=False, state='OCCUPIED', session_start=1657705250),\n",
       " Service(service_id='38637', location_id='11112', type='WASHING_MACHINE', name='washing machine', cost_cents=320, reservable=False, state='AVAILABLE', session_start=None),\n",
       " Service(service_id='38638', location_id='11112', type='WASHING_MACHINE', name='washing machine', cost_cents=320, reservable=False, state='AVAILABLE', session_start=None),\n",
       " Service(service_id='38639', location_id='11112', type='WASHING_MACHINE', name='washing machine', cost_cents=320, reservable=False, state='AVAILABLE', session_start=None),\n",
       " Service(service_id='38640', location_id='11112', type='WASHING_MACHINE', name='washing machine', cost_cents=320, reservable=False, state='AVAILABLE', session_start=None),\n",
       " Service(service_id='38641', location_id='11112', type='DRYER', name='dryer', cost_cents=200, reservable=False, state='AVAILABLE', session_start=None),\n",
       " Service(service_id='38642', location_id='11112', type='DRYER', name='dryer', cost_cents=200, reservable=False, state='AVAILABLE', session_start=None)]"
      ]
     },
     "execution_count": 4,
     "metadata": {},
     "output_type": "execute_result"
    }
   ],
   "source": [
    "appwash.services(location_id=\"11112\")"
   ]
  },
  {
   "cell_type": "code",
   "execution_count": 5,
   "metadata": {},
   "outputs": [
    {
     "name": "stdout",
     "output_type": "stream",
     "text": [
      "{'errorCode': 0, 'errorDescription': '', 'token_expire_ts': 1658268000, 'serverTime': 1657708958, 'data': {'name': 'Studio M - Waschküche', 'externalId': '11102', 'gps': {'latitude': 48.178438, 'longitude': 11.573577}, 'locationTypeV2': 'APARTMENT_BUILDING', 'locationTypeObject': {'type': 'APARTMENT_BUILDING', 'name': 'Apartment building'}, 'locationStatus': 'PRODUCTION_PHASE', 'durationRequired': False, 'knownCommunicationIssues': False, 'services': [{'type': 'DRYER', 'name': 'dryer'}, {'type': 'WASHING_MACHINE', 'name': 'washing machine'}], 'pricing': [{'serviceType': 'WASHING_MACHINE', 'componentPriceObjects': [{'type': 'UNIT_PRICE', 'fullPriceString': 'Per washing cycle: EUR 2.50', 'priceString': 'EUR 2.50', 'costCents': 250}]}, {'serviceType': 'DRYER', 'componentPriceObjects': [{'type': 'UNIT_PRICE', 'fullPriceString': 'Per dryer cycle: EUR 2.00', 'priceString': 'EUR 2.00', 'costCents': 200}]}], 'products': [], 'childLocations': [{'labelIdentifier': 'appWash', 'topLevelName': 'München - Knorrstr. 2', 'city': 'München', 'name': 'Box 220809', 'externalId': '10552', 'locationStatus': 'PRODUCTION_PHASE', 'gps': {}, 'tags': ''}], 'maxDaysInAdvance': 7, 'reservedType': 'NOT_RESERVABLE', 'serviceTypes': []}}\n"
     ]
    },
    {
     "data": {
      "text/plain": [
       "Location(id='11102', location_type='APARTMENT_BUILDING', location_status='PRODUCTION_PHASE', services=[{'service': 'DRYER', 'costsCent': {'serviceType': 'DRYER', 'componentPriceObjects': [{'type': 'UNIT_PRICE', 'fullPriceString': 'Per dryer cycle: EUR 2.00', 'priceString': 'EUR 2.00', 'costCents': 200}]}}, {'service': 'WASHING_MACHINE', 'costsCent': {'serviceType': 'WASHING_MACHINE', 'componentPriceObjects': [{'type': 'UNIT_PRICE', 'fullPriceString': 'Per washing cycle: EUR 2.50', 'priceString': 'EUR 2.50', 'costCents': 250}]}}], name='Studio M - Waschküche', reservable=False, reservable_days_in_advance=7)"
      ]
     },
     "execution_count": 5,
     "metadata": {},
     "output_type": "execute_result"
    }
   ],
   "source": [
    "appwash.location()"
   ]
  }
 ],
 "metadata": {
  "kernelspec": {
   "display_name": "Python 3.10.0 ('env': venv)",
   "language": "python",
   "name": "python3"
  },
  "language_info": {
   "codemirror_mode": {
    "name": "ipython",
    "version": 3
   },
   "file_extension": ".py",
   "mimetype": "text/x-python",
   "name": "python",
   "nbconvert_exporter": "python",
   "pygments_lexer": "ipython3",
   "version": "3.10.0"
  },
  "orig_nbformat": 4,
  "vscode": {
   "interpreter": {
    "hash": "03a821d99204998dbd7088fc2f75bbb362533c2fe0461f92cd275a2b489df905"
   }
  }
 },
 "nbformat": 4,
 "nbformat_minor": 2
}
